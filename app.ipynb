{
 "cells": [
  {
   "cell_type": "code",
   "execution_count": 262,
   "metadata": {},
   "outputs": [],
   "source": [
    "import pandas as pd\n",
    "import matplotlib.pyplot as plt\n",
    "import seaborn as sns\n",
    "import sklearn\n",
    "import warnings\n",
    "\n",
    "from sklearn.preprocessing import LabelEncoder\n",
    "from sklearn.impute import KNNImputer\n",
    "from sklearn.model_selection import train_test_split\n",
    "from sklearn.preprocessing import StandardScaler\n",
    "from sklearn.metrics import f1_score\n",
    "from sklearn.ensemble import RandomForestRegressor\n",
    "from sklearn.ensemble import RandomForestRegressor\n",
    "from sklearn.model_selection import cross_val_score\n",
    "\n",
    "warnings.filterwarnings('ignore')\n"
   ]
  },
  {
   "cell_type": "code",
   "execution_count": 263,
   "metadata": {},
   "outputs": [
    {
     "name": "stdout",
     "output_type": "stream",
     "text": [
      "   percentage educational_resources parents_education  personality passion  \\\n",
      "0          85                  good          graduate  extroverted     yes   \n",
      "1          78          satisfactory     undergraduate   ambiverted      no   \n",
      "2          92                  poor               PhD  introverted     yes   \n",
      "3          87                  good          graduate  extroverted      no   \n",
      "4          80          satisfactory     undergraduate   ambiverted     yes   \n",
      "5          95                  good               PhD  introverted     yes   \n",
      "6          88          satisfactory          graduate  extroverted      no   \n",
      "7          75                  poor     undergraduate   ambiverted      no   \n",
      "8          89                  good          graduate  extroverted     yes   \n",
      "9          82          satisfactory     undergraduate  introverted     yes   \n",
      "\n",
      "   ott_time  sm_time  travel_time  eduvids_time  game_time  extra_time  \\\n",
      "0       2.0      1.0          0.5           3.0        1.0         2.0   \n",
      "1       1.5      1.5          1.0           2.5        1.5         1.0   \n",
      "2       3.0      0.5          0.3           2.0        0.5         3.0   \n",
      "3       2.0      1.0          0.8           2.5        1.0         2.0   \n",
      "4       2.5      1.0          0.5           2.0        1.0         1.0   \n",
      "5       3.5      0.5          0.2           2.0        0.2         4.0   \n",
      "6       2.0      1.0          1.0           2.5        1.0         1.5   \n",
      "7       1.5      1.8          0.7           3.0        1.0         0.5   \n",
      "8       3.0      0.7          0.5           2.5        0.8         2.0   \n",
      "9       2.0      1.2          0.6           2.0        1.0         1.0   \n",
      "\n",
      "     ai_usage  \n",
      "0     regular  \n",
      "1  occasional  \n",
      "2       never  \n",
      "3  occasional  \n",
      "4     regular  \n",
      "5     regular  \n",
      "6  occasional  \n",
      "7  occasional  \n",
      "8     regular  \n",
      "9  occasional  \n"
     ]
    }
   ],
   "source": [
    "df= pd.read_csv('performance.csv')\n",
    "print(df)"
   ]
  },
  {
   "cell_type": "code",
   "execution_count": 264,
   "metadata": {},
   "outputs": [
    {
     "name": "stdout",
     "output_type": "stream",
     "text": [
      "<class 'pandas.core.frame.DataFrame'>\n",
      "RangeIndex: 10 entries, 0 to 9\n",
      "Data columns (total 12 columns):\n",
      " #   Column                 Non-Null Count  Dtype  \n",
      "---  ------                 --------------  -----  \n",
      " 0   percentage             10 non-null     int64  \n",
      " 1   educational_resources  10 non-null     object \n",
      " 2   parents_education      10 non-null     object \n",
      " 3   personality            10 non-null     object \n",
      " 4   passion                10 non-null     object \n",
      " 5   ott_time               10 non-null     float64\n",
      " 6   sm_time                10 non-null     float64\n",
      " 7   travel_time            10 non-null     float64\n",
      " 8   eduvids_time           10 non-null     float64\n",
      " 9   game_time              10 non-null     float64\n",
      " 10  extra_time             10 non-null     float64\n",
      " 11  ai_usage               10 non-null     object \n",
      "dtypes: float64(6), int64(1), object(5)\n",
      "memory usage: 1.1+ KB\n"
     ]
    }
   ],
   "source": [
    "df.info()\n"
   ]
  },
  {
   "cell_type": "code",
   "execution_count": 265,
   "metadata": {},
   "outputs": [
    {
     "name": "stdout",
     "output_type": "stream",
     "text": [
      "   percentage educational_resources parents_education  personality  passion  \\\n",
      "0          85                  good          graduate  extroverted        1   \n",
      "1          78          satisfactory     undergraduate   ambiverted        0   \n",
      "2          92                  poor               PhD  introverted        1   \n",
      "3          87                  good          graduate  extroverted        0   \n",
      "4          80          satisfactory     undergraduate   ambiverted        1   \n",
      "5          95                  good               PhD  introverted        1   \n",
      "6          88          satisfactory          graduate  extroverted        0   \n",
      "7          75                  poor     undergraduate   ambiverted        0   \n",
      "8          89                  good          graduate  extroverted        1   \n",
      "9          82          satisfactory     undergraduate  introverted        1   \n",
      "\n",
      "   ott_time  sm_time  travel_time  eduvids_time  game_time  extra_time  \\\n",
      "0       2.0      1.0          0.5           3.0        1.0         2.0   \n",
      "1       1.5      1.5          1.0           2.5        1.5         1.0   \n",
      "2       3.0      0.5          0.3           2.0        0.5         3.0   \n",
      "3       2.0      1.0          0.8           2.5        1.0         2.0   \n",
      "4       2.5      1.0          0.5           2.0        1.0         1.0   \n",
      "5       3.5      0.5          0.2           2.0        0.2         4.0   \n",
      "6       2.0      1.0          1.0           2.5        1.0         1.5   \n",
      "7       1.5      1.8          0.7           3.0        1.0         0.5   \n",
      "8       3.0      0.7          0.5           2.5        0.8         2.0   \n",
      "9       2.0      1.2          0.6           2.0        1.0         1.0   \n",
      "\n",
      "     ai_usage  \n",
      "0     regular  \n",
      "1  occasional  \n",
      "2       never  \n",
      "3  occasional  \n",
      "4     regular  \n",
      "5     regular  \n",
      "6  occasional  \n",
      "7  occasional  \n",
      "8     regular  \n",
      "9  occasional  \n"
     ]
    }
   ],
   "source": [
    "# Map educational_resources values to numerical representations\n",
    "# convert categorical variable to numerical\n",
    "df['passion'] = df['passion'].apply(lambda x: 1 if x =='yes' else 0)\n",
    "print(df)\n"
   ]
  },
  {
   "cell_type": "code",
   "execution_count": 266,
   "metadata": {},
   "outputs": [
    {
     "name": "stdout",
     "output_type": "stream",
     "text": [
      "percentage               0\n",
      "educational_resources    0\n",
      "parents_education        0\n",
      "personality              0\n",
      "passion                  0\n",
      "ott_time                 0\n",
      "sm_time                  0\n",
      "travel_time              0\n",
      "eduvids_time             0\n",
      "game_time                0\n",
      "extra_time               0\n",
      "ai_usage                 0\n",
      "dtype: int64\n"
     ]
    }
   ],
   "source": [
    "total_null_values=df.isnull().sum()\n",
    "print(total_null_values)"
   ]
  },
  {
   "cell_type": "code",
   "execution_count": 267,
   "metadata": {},
   "outputs": [],
   "source": [
    "mapping_dict1 = {'good': 1, 'poor': 0, 'satisfactory': 0.5}\n",
    "\n",
    "# Apply the mapping to the DataFrame column\n",
    "df['educational_resources'] = df['educational_resources'].map(mapping_dict1)\n"
   ]
  },
  {
   "cell_type": "code",
   "execution_count": 268,
   "metadata": {},
   "outputs": [],
   "source": [
    "mapping_dict2 = {'extroverted': 0, 'introverted': 1, 'ambiverted': 0.5}\n",
    "\n",
    "# Apply the mapping to the DataFrame column\n",
    "df['personality'] = df['personality'].map(mapping_dict2)"
   ]
  },
  {
   "cell_type": "code",
   "execution_count": 269,
   "metadata": {},
   "outputs": [],
   "source": [
    "mapping_dict3 = {'regular': 0, 'never': 1, 'occasional': 0.5}\n",
    "\n",
    "# Apply the mapping to the DataFrame column\n",
    "df['ai_usage'] = df['ai_usage'].map(mapping_dict3)"
   ]
  },
  {
   "cell_type": "code",
   "execution_count": 270,
   "metadata": {},
   "outputs": [],
   "source": [
    "mapping_dict4 = {'below10': 0.20, '10': 0.22, '12': 0.25, 'undergraduate': 0.5, 'graduate': 0.65, 'PhD': 0.75, }\n",
    "\n",
    "# Apply the mapping to the DataFrame column\n",
    "df['parents_education'] = df['parents_education'].map(mapping_dict4)"
   ]
  },
  {
   "cell_type": "code",
   "execution_count": 271,
   "metadata": {},
   "outputs": [],
   "source": [
    "df['study_time'] = 9-df['ott_time']-df['sm_time']-df['travel_time']+df['eduvids_time']-df['game_time']-df['extra_time']"
   ]
  },
  {
   "cell_type": "code",
   "execution_count": 272,
   "metadata": {},
   "outputs": [
    {
     "name": "stdout",
     "output_type": "stream",
     "text": [
      "   percentage  educational_resources  parents_education  personality  passion  \\\n",
      "0          85                    1.0               0.65          0.0        1   \n",
      "1          78                    0.5               0.50          0.5        0   \n",
      "2          92                    0.0               0.75          1.0        1   \n",
      "3          87                    1.0               0.65          0.0        0   \n",
      "4          80                    0.5               0.50          0.5        1   \n",
      "5          95                    1.0               0.75          1.0        1   \n",
      "6          88                    0.5               0.65          0.0        0   \n",
      "7          75                    0.0               0.50          0.5        0   \n",
      "8          89                    1.0               0.65          0.0        1   \n",
      "9          82                    0.5               0.50          1.0        1   \n",
      "\n",
      "   ott_time  sm_time  travel_time  eduvids_time  game_time  extra_time  \\\n",
      "0       2.0      1.0          0.5           3.0        1.0         2.0   \n",
      "1       1.5      1.5          1.0           2.5        1.5         1.0   \n",
      "2       3.0      0.5          0.3           2.0        0.5         3.0   \n",
      "3       2.0      1.0          0.8           2.5        1.0         2.0   \n",
      "4       2.5      1.0          0.5           2.0        1.0         1.0   \n",
      "5       3.5      0.5          0.2           2.0        0.2         4.0   \n",
      "6       2.0      1.0          1.0           2.5        1.0         1.5   \n",
      "7       1.5      1.8          0.7           3.0        1.0         0.5   \n",
      "8       3.0      0.7          0.5           2.5        0.8         2.0   \n",
      "9       2.0      1.2          0.6           2.0        1.0         1.0   \n",
      "\n",
      "   ai_usage  study_time  \n",
      "0       0.0         5.5  \n",
      "1       0.5         5.0  \n",
      "2       1.0         3.7  \n",
      "3       0.5         4.7  \n",
      "4       0.0         5.0  \n",
      "5       0.0         2.6  \n",
      "6       0.5         5.0  \n",
      "7       0.5         6.5  \n",
      "8       0.0         4.5  \n",
      "9       0.5         5.2  \n"
     ]
    }
   ],
   "source": [
    "print(df)"
   ]
  },
  {
   "cell_type": "code",
   "execution_count": 273,
   "metadata": {},
   "outputs": [],
   "source": [
    "# Assuming df is your DataFrame\n",
    "x = ['educational_resources','parents_education','personality','passion','ott_time','sm_time','travel_time','eduvids_time','game_time','extra_time','ai_usage']\n",
    "y = df['percentage']# Target variable"
   ]
  },
  {
   "cell_type": "code",
   "execution_count": null,
   "metadata": {},
   "outputs": [],
   "source": []
  }
 ],
 "metadata": {
  "kernelspec": {
   "display_name": "Python 3",
   "language": "python",
   "name": "python3"
  },
  "language_info": {
   "codemirror_mode": {
    "name": "ipython",
    "version": 3
   },
   "file_extension": ".py",
   "mimetype": "text/x-python",
   "name": "python",
   "nbconvert_exporter": "python",
   "pygments_lexer": "ipython3",
   "version": "3.11.7"
  }
 },
 "nbformat": 4,
 "nbformat_minor": 2
}
